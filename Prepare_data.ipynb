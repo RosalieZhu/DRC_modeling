{
 "cells": [
  {
   "cell_type": "code",
   "execution_count": 3,
   "metadata": {},
   "outputs": [],
   "source": [
    "from glob import glob\n",
    "from shutil import copyfile\n",
    "import os\n",
    "import numpy as np\n",
    "import nibabel as nib"
   ]
  },
  {
   "cell_type": "code",
   "execution_count": 4,
   "metadata": {},
   "outputs": [],
   "source": [
    "DRC_MBBI_data_path = './DRC_MBBI_Scans/scans/'\n",
    "DRC_input_path = './Input/'\n",
    "GBM_DataPath = DRC_MBBI_data_path + 'GBM/'\n",
    "WT_DataPath = DRC_MBBI_data_path + 'WT/'\n",
    "GBM_InputPath = DRC_input_path + 'GBM/'\n",
    "GBM_subjects_path = GBM_InputPath + 'BySubject/'\n",
    "WT_InputPath = DRC_input_path + 'WT/'\n",
    "WT_subjects_path = WT_InputPath + 'BySubject/'\n",
    "if not os.path.exists(GBM_InputPath):\n",
    "    os.makedirs(GBM_InputPath)\n",
    "if not os.path.exists(WT_InputPath):\n",
    "    os.makedirs(WT_InputPath)\n",
    "if not os.path.exists(GBM_subjects_path):\n",
    "    os.makedirs(GBM_subjects_path)\n",
    "if not os.path.exists(WT_subjects_path):\n",
    "    os.makedirs(WT_subjects_path)"
   ]
  },
  {
   "cell_type": "code",
   "execution_count": 7,
   "metadata": {},
   "outputs": [
    {
     "data": {
      "text/plain": [
       "['./Input/GBM/BySubject/Treatment1_Post14d/Treatment1_Post14d_4d_WH.nii.gz',\n",
       " './Input/GBM/BySubject/Treatment1_Post14d/Treatment1_Post14d_median_WB.nii.gz',\n",
       " './Input/GBM/BySubject/Treatment1_Post14d/Treatment1_Post14d_4d_WB.nii.gz',\n",
       " './Input/GBM/BySubject/Treatment1_Post14d/Treatment1_Post14d_brainmask.nii.gz',\n",
       " './Input/GBM/BySubject/Treatment1_Post14d/Treatment1_Post14d_median_WH.nii.gz']"
      ]
     },
     "execution_count": 7,
     "metadata": {},
     "output_type": "execute_result"
    }
   ],
   "source": [
    "glob(glob(GBM_subjects_path + '*')[0] + '/*')[0]"
   ]
  },
  {
   "cell_type": "code",
   "execution_count": 9,
   "metadata": {},
   "outputs": [
    {
     "data": {
      "text/plain": [
       "(201, 201, 18, 25)"
      ]
     },
     "execution_count": 9,
     "metadata": {},
     "output_type": "execute_result"
    }
   ],
   "source": [
    "nib.load(glob(glob(GBM_subjects_path + '*')[0] + '/*')[0]).get_fdata().shape"
   ]
  },
  {
   "cell_type": "markdown",
   "metadata": {},
   "source": [
    "## WT DATA"
   ]
  },
  {
   "cell_type": "code",
   "execution_count": 4,
   "metadata": {},
   "outputs": [],
   "source": [
    "for path, folder, files in os.walk(WT_DataPath):\n",
    "    for file in files:\n",
    "        if file[0] == '_':\n",
    "            subject = '_'.join(file.split('_')[1:5])\n",
    "        else:\n",
    "            subject = '_'.join(file.split('_')[0:2])\n",
    "        target_path =  WT_subjects_path + subject + '/' \n",
    "        if not os.path.exists(target_path):\n",
    "            os.makedirs(target_path)\n",
    "        file_path = os.path.join(path, file)\n",
    "        if 'BrainMask' in file:\n",
    "            new_filename = file.replace('BrainMask', 'brainmask')\n",
    "            copyfile(file_path, target_path + new_filename)\n",
    "        else:\n",
    "            copyfile(file_path, target_path + file)"
   ]
  },
  {
   "cell_type": "markdown",
   "metadata": {},
   "source": [
    "## GBM DATA"
   ]
  },
  {
   "cell_type": "code",
   "execution_count": 56,
   "metadata": {},
   "outputs": [],
   "source": [
    "for path, folder, files in os.walk(GBM_DataPath):\n",
    "    for file in files:\n",
    "        if 'TP3' in file:\n",
    "            file_path = os.path.join(path, file)\n",
    "            target_path = GBM_InputPath + path.split('/')[-1] + '/'\n",
    "            if not os.path.exists(target_path):\n",
    "                os.makedirs(target_path)\n",
    "            new_filename = file.replace('TP3', 'Post20d')\n",
    "            if ('Grean' in file) or ('Green' in file):\n",
    "                new_filename = new_filename.replace('Green', 'Treatment')\n",
    "                new_filename = new_filename.replace('Grean', 'Treatment')\n",
    "            if 'Red' in file:\n",
    "                new_filename = new_filename.replace('Red', 'Control')\n",
    "            if 'BrainMask' in file:\n",
    "                new_filename = new_filename.replace('BrainMask', 'brainmask')\n",
    "            copyfile(file_path, target_path + new_filename)\n",
    "        elif 'Rerun' in file:\n",
    "            file_path = os.path.join(path, file)\n",
    "            target_path = GBM_InputPath + path.split('/')[-1] + '/'\n",
    "            if not os.path.exists(target_path):\n",
    "                os.makedirs(target_path)\n",
    "            new_filename = file.replace('Rerun', 'Post14d')\n",
    "            if ('Grean' in file) or ('Green' in file):\n",
    "                new_filename = new_filename.replace('Green', 'Treatment')\n",
    "                new_filename = new_filename.replace('Grean', 'Treatment')\n",
    "            if 'Red' in file:\n",
    "                new_filename = new_filename.replace('Red', 'Control')\n",
    "            if 'BrainMask' in file:\n",
    "                new_filename = new_filename.replace('BrainMask', 'brainmask')\n",
    "            copyfile(file_path, target_path + new_filename)\n",
    "        else:\n",
    "            file_path = os.path.join(path, file)\n",
    "            target_path = GBM_InputPath + path.split('/')[-1] + '/'\n",
    "            if not os.path.exists(target_path):\n",
    "                os.makedirs(target_path)\n",
    "            file_type = file.split('_')[-1][:-7]\n",
    "            if 'BrainMask' in file:\n",
    "                new_filename = file.replace(file.split('_')[-1][:-7], 'Post10d_brainmask')\n",
    "            else:\n",
    "                new_filename = file.replace(file.split('_')[-2], 'Post10d_' + file.split('_')[-2])\n",
    "    \n",
    "            if ('Grean' in file) or ('Green' in file):\n",
    "                new_filename = new_filename.replace('Green', 'Treatment')\n",
    "                new_filename = new_filename.replace('Grean', 'Treatment')\n",
    "            if 'Red' in file:\n",
    "                new_filename = new_filename.replace('Red', 'Control')\n",
    "            copyfile(file_path, target_path + new_filename)\n"
   ]
  },
  {
   "cell_type": "code",
   "execution_count": 58,
   "metadata": {},
   "outputs": [
    {
     "data": {
      "text/plain": [
       "['Control1_Post10d',\n",
       " 'Control1_Post14d',\n",
       " 'Control2_Post10d',\n",
       " 'Control2_Post14d',\n",
       " 'Treatment1_Post10d',\n",
       " 'Treatment1_Post14d',\n",
       " 'Treatment1_Post20d',\n",
       " 'Treatment2_Post10d',\n",
       " 'Treatment2_Post14d',\n",
       " 'Treatment2_Post20d']"
      ]
     },
     "execution_count": 58,
     "metadata": {},
     "output_type": "execute_result"
    }
   ],
   "source": [
    "subject_filename_list = []\n",
    "all_files_list = []\n",
    "for path, folder, files in os.walk(GBM_InputPath):\n",
    "    for file in files:\n",
    "        subject_filename_list.append(file.split('_')[0] + '_' + file.split('_')[1])\n",
    "        all_files_list.append(os.path.join(path, file))\n",
    "subject_list = list(np.unique(subject_filename_list))\n",
    "subject_list"
   ]
  },
  {
   "cell_type": "code",
   "execution_count": 59,
   "metadata": {},
   "outputs": [],
   "source": [
    "for subject in subject_list:\n",
    "    subject_subfolder = GBM_subjects_path + subject + '/'\n",
    "    if not os.path.exists(subject_subfolder):\n",
    "        os.makedirs(subject_subfolder)\n",
    "    for file_path in all_files_list:\n",
    "        if subject in file_path:\n",
    "            copyfile(file_path, subject_subfolder + file_path.split('/')[-1])"
   ]
  }
 ],
 "metadata": {
  "kernelspec": {
   "display_name": "Python 3.6 Cyto",
   "language": "python",
   "name": "cyto"
  },
  "language_info": {
   "codemirror_mode": {
    "name": "ipython",
    "version": 3
   },
   "file_extension": ".py",
   "mimetype": "text/x-python",
   "name": "python",
   "nbconvert_exporter": "python",
   "pygments_lexer": "ipython3",
   "version": "3.6.8"
  }
 },
 "nbformat": 4,
 "nbformat_minor": 2
}
